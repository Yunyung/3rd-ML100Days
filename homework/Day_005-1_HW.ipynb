{
 "cells": [
  {
   "cell_type": "markdown",
   "metadata": {},
   "source": [
    "# [作業目標]\n",
    "- 利用範例的創建方式, 創建一組資料, 並練習如何取出最大值"
   ]
  },
  {
   "cell_type": "markdown",
   "metadata": {},
   "source": [
    "# [作業重點]\n",
    "- 練習創立 DataFrame (In[2])\n",
    "- 如何取出口數最多的國家 (In[3], Out[3])"
   ]
  },
  {
   "cell_type": "markdown",
   "metadata": {},
   "source": [
    "## 練習時間\n",
    "在小量的資料上，我們用眼睛就可以看得出來程式碼是否有跑出我們理想中的結果\n",
    "\n",
    "請嘗試想像一個你需要的資料結構 (裡面的值可以是隨機的)，然後用上述的方法把它變成 pandas DataFrame\n",
    "\n",
    "#### Ex: 想像一個 dataframe 有兩個欄位，一個是國家，一個是人口，求人口數最多的國家\n",
    "\n",
    "### Hints: [隨機產生數值](https://blog.csdn.net/christianashannon/article/details/78867204)"
   ]
  },
  {
   "cell_type": "code",
   "execution_count": 6,
   "metadata": {},
   "outputs": [],
   "source": [
    "import pandas as pd\n",
    "import numpy as np"
   ]
  },
  {
   "cell_type": "code",
   "execution_count": null,
   "metadata": {},
   "outputs": [],
   "source": []
  },
  {
   "cell_type": "code",
   "execution_count": 62,
   "metadata": {},
   "outputs": [
    {
     "name": "stdout",
     "output_type": "stream",
     "text": [
      "              國家         人口\n",
      "0         Taiwan  256028516\n",
      "1  United States  669781279\n",
      "2       Thailand  683829214\n",
      "國家     Thailand\n",
      "人口    683829214\n",
      "Name: 2, dtype: object\n"
     ]
    }
   ],
   "source": [
    "population = np.random.randint(999999999,size = 3)\n",
    "data = {'國家': ['Taiwan', 'United States', 'Thailand'],\n",
    "        '人口': population}\n",
    "data = pd.DataFrame(data)\n",
    "print(data.sort_values(by = '人口')) # 排序\n",
    "\n",
    "print(data.loc[data['人口'].idxmax()]) # 找最大值方式 參考網站: https://stackoverflow.com/questions/15741759/find-maximum-value-of-a-column-and-return-the-corresponding-row-values-using-pan"
   ]
  },
  {
   "cell_type": "code",
   "execution_count": 50,
   "metadata": {},
   "outputs": [
    {
     "name": "stdout",
     "output_type": "stream",
     "text": [
      "46\n",
      "---\n",
      "   groups  num\n",
      "0  Movies   46\n",
      "---\n",
      "0    46\n",
      "1     8\n",
      "2    12\n",
      "3    12\n",
      "4     6\n",
      "5    58\n",
      "Name: num, dtype: int64\n",
      "---\n",
      "0    46\n",
      "1     8\n",
      "2    12\n",
      "3    12\n",
      "4     6\n",
      "5    58\n",
      "Name: num, dtype: int64\n",
      "---\n",
      "0    46\n",
      "1     8\n",
      "2    12\n",
      "3    12\n",
      "4     6\n",
      "5    58\n",
      "Name: num, dtype: int64\n"
     ]
    }
   ],
   "source": [
    "# 自主練習  參考網站: https://oranwind.org/python-pandas-ji-chu-jiao-xue/\n",
    "import pandas as pd\n",
    "\n",
    "groups = [\"Movies\", \"Sports\", \"Coding\", \"Fishing\", \"Dancing\", \"cooking\"]  \n",
    "num = [46, 8, 12, 12, 6, 58]\n",
    "\n",
    "dict = {\"groups\": groups,  \n",
    "        \"num\": num\n",
    "       }\n",
    "\n",
    "select_df = pd.DataFrame(dict)\n",
    "\n",
    "print(select_df.iloc[0, 1]) # 第一列第二欄：組的人數  \n",
    "print(\"---\")  \n",
    "print(select_df.iloc[0:1,:]) # 第一列：組的組名與人數  \n",
    "print(\"---\")  \n",
    "print(select_df.iloc[:,1]) # 第二欄：各組的人數  \n",
    "print(\"---\")  \n",
    "print(select_df[\"num\"]) # 各組的人數  \n",
    "print(\"---\")  \n",
    "print(select_df.num) # 各組的人數  "
   ]
  }
 ],
 "metadata": {
  "kernelspec": {
   "display_name": "Python 3",
   "language": "python",
   "name": "python3"
  },
  "language_info": {
   "codemirror_mode": {
    "name": "ipython",
    "version": 3
   },
   "file_extension": ".py",
   "mimetype": "text/x-python",
   "name": "python",
   "nbconvert_exporter": "python",
   "pygments_lexer": "ipython3",
   "version": "3.6.8"
  }
 },
 "nbformat": 4,
 "nbformat_minor": 2
}
